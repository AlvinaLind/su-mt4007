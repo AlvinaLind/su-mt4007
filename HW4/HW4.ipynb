{
 "cells": [
  {
   "cell_type": "markdown",
   "id": "953bbf9f-2b1e-4d6e-8d60-d629e3cf7dad",
   "metadata": {},
   "source": [
    "# Joining Data"
   ]
  },
  {
   "cell_type": "code",
   "execution_count": 1,
   "id": "176a2b0e-cdd9-4f76-a461-8a3ae87e1e7e",
   "metadata": {},
   "outputs": [],
   "source": [
    "import pandas as pd                                                        \n",
    "import seaborn as sns\n",
    "import numpy as np\n",
    "import matplotlib.pyplot as plt\n",
    "sns.set_style(style=\"darkgrid\")\n",
    "import seaborn as sns\n",
    "import datetime as dt"
   ]
  },
  {
   "cell_type": "markdown",
   "id": "bcc58376-a4f7-41a9-9883-643bc1de0f17",
   "metadata": {},
   "source": [
    "### Cellphone data from HW3"
   ]
  },
  {
   "cell_type": "code",
   "execution_count": 2,
   "id": "9bdc6275-9a36-4c4c-8b3b-0381677d7c19",
   "metadata": {},
   "outputs": [],
   "source": [
    "dataprep = pd.read_csv(\"https://raw.githubusercontent.com/su-mt4007/data/main/cell_phones_total.csv\")"
   ]
  },
  {
   "cell_type": "code",
   "execution_count": 3,
   "id": "7ec81ce1-44ac-44a7-adfa-238973777c08",
   "metadata": {},
   "outputs": [],
   "source": [
    "# dataprep.info()"
   ]
  },
  {
   "cell_type": "code",
   "execution_count": 4,
   "id": "c530a0b7-5808-4fe6-b823-3c21beaa79bb",
   "metadata": {},
   "outputs": [],
   "source": [
    "# dataprep.isnull().sum()"
   ]
  },
  {
   "cell_type": "code",
   "execution_count": 5,
   "id": "916a5355-4b15-442c-a1a8-429286af07df",
   "metadata": {},
   "outputs": [],
   "source": [
    "cleaned_dataprep = dataprep.fillna(method='ffill', axis=1).fillna(0.0)"
   ]
  },
  {
   "cell_type": "code",
   "execution_count": 6,
   "id": "acf2ec53-0227-4b15-8679-0403b83667a0",
   "metadata": {},
   "outputs": [],
   "source": [
    "cleaned_dataprep.iloc[:, 1:] = cleaned_dataprep.iloc[:, 1:] \\\n",
    "    .replace({'k': 'e3', 'M': 'e6', 'B': 'e9'}, regex=True) \\\n",
    "    .apply(pd.to_numeric, errors='coerce')\n",
    "\n",
    "# cleaned_dataprep.info()"
   ]
  },
  {
   "cell_type": "code",
   "execution_count": 7,
   "id": "6f81cd7a-cec6-40fb-b390-0e0b668d05a7",
   "metadata": {},
   "outputs": [
    {
     "data": {
      "text/html": [
       "<div>\n",
       "<style scoped>\n",
       "    .dataframe tbody tr th:only-of-type {\n",
       "        vertical-align: middle;\n",
       "    }\n",
       "\n",
       "    .dataframe tbody tr th {\n",
       "        vertical-align: top;\n",
       "    }\n",
       "\n",
       "    .dataframe thead th {\n",
       "        text-align: right;\n",
       "    }\n",
       "</style>\n",
       "<table border=\"1\" class=\"dataframe\">\n",
       "  <thead>\n",
       "    <tr style=\"text-align: right;\">\n",
       "      <th></th>\n",
       "      <th>iso-3</th>\n",
       "      <th>2015</th>\n",
       "      <th>2016</th>\n",
       "      <th>2017</th>\n",
       "      <th>2018</th>\n",
       "      <th>2019</th>\n",
       "    </tr>\n",
       "  </thead>\n",
       "  <tbody>\n",
       "    <tr>\n",
       "      <th>35</th>\n",
       "      <td>CHN</td>\n",
       "      <td>1.290000e+09</td>\n",
       "      <td>1.360000e+09</td>\n",
       "      <td>1.470000e+09</td>\n",
       "      <td>1.650000e+09</td>\n",
       "      <td>1.730000e+09</td>\n",
       "    </tr>\n",
       "    <tr>\n",
       "      <th>87</th>\n",
       "      <td>IND</td>\n",
       "      <td>1.000000e+09</td>\n",
       "      <td>1.130000e+09</td>\n",
       "      <td>1.170000e+09</td>\n",
       "      <td>1.180000e+09</td>\n",
       "      <td>1.150000e+09</td>\n",
       "    </tr>\n",
       "    <tr>\n",
       "      <th>200</th>\n",
       "      <td>USA</td>\n",
       "      <td>3.820000e+08</td>\n",
       "      <td>3.960000e+08</td>\n",
       "      <td>4.000000e+08</td>\n",
       "      <td>4.220000e+08</td>\n",
       "      <td>4.220000e+08</td>\n",
       "    </tr>\n",
       "    <tr>\n",
       "      <th>86</th>\n",
       "      <td>IDN</td>\n",
       "      <td>3.390000e+08</td>\n",
       "      <td>3.860000e+08</td>\n",
       "      <td>4.350000e+08</td>\n",
       "      <td>3.190000e+08</td>\n",
       "      <td>3.450000e+08</td>\n",
       "    </tr>\n",
       "    <tr>\n",
       "      <th>26</th>\n",
       "      <td>BRA</td>\n",
       "      <td>2.580000e+08</td>\n",
       "      <td>2.440000e+08</td>\n",
       "      <td>2.180000e+08</td>\n",
       "      <td>2.070000e+08</td>\n",
       "      <td>2.070000e+08</td>\n",
       "    </tr>\n",
       "  </tbody>\n",
       "</table>\n",
       "</div>"
      ],
      "text/plain": [
       "    iso-3          2015          2016          2017          2018  \\\n",
       "35    CHN  1.290000e+09  1.360000e+09  1.470000e+09  1.650000e+09   \n",
       "87    IND  1.000000e+09  1.130000e+09  1.170000e+09  1.180000e+09   \n",
       "200   USA  3.820000e+08  3.960000e+08  4.000000e+08  4.220000e+08   \n",
       "86    IDN  3.390000e+08  3.860000e+08  4.350000e+08  3.190000e+08   \n",
       "26    BRA  2.580000e+08  2.440000e+08  2.180000e+08  2.070000e+08   \n",
       "\n",
       "             2019  \n",
       "35   1.730000e+09  \n",
       "87   1.150000e+09  \n",
       "200  4.220000e+08  \n",
       "86   3.450000e+08  \n",
       "26   2.070000e+08  "
      ]
     },
     "execution_count": 7,
     "metadata": {},
     "output_type": "execute_result"
    }
   ],
   "source": [
    "cleaned_dataprep[['iso-3','2015','2016', '2017', '2018', '2019']].sort_values('2015', ascending = False).head()"
   ]
  },
  {
   "cell_type": "code",
   "execution_count": 8,
   "id": "e6c6812b-b1c6-4773-bdd6-4aacd42875eb",
   "metadata": {},
   "outputs": [],
   "source": [
    "cleaned_data = cleaned_dataprep"
   ]
  },
  {
   "cell_type": "code",
   "execution_count": 9,
   "id": "5ff50c13-560d-4a1a-a1f3-2906c6a7e512",
   "metadata": {},
   "outputs": [],
   "source": [
    "#cleaned_data = pd.read_csv(\"/Users/alvinalindqvist/Documents/GitHub/su-mt4007/cleaned_cell_phones.csv\") # cleaned_data from HW3\n",
    "#cleaned_data.head()"
   ]
  },
  {
   "cell_type": "markdown",
   "id": "d5acded0-f0d1-42fa-b850-03e6d6a6301b",
   "metadata": {},
   "source": [
    "### Population data"
   ]
  },
  {
   "cell_type": "code",
   "execution_count": 10,
   "id": "d0f1b349-7b5d-4871-8a23-71686a1d93d2",
   "metadata": {},
   "outputs": [
    {
     "data": {
      "text/html": [
       "<div>\n",
       "<style scoped>\n",
       "    .dataframe tbody tr th:only-of-type {\n",
       "        vertical-align: middle;\n",
       "    }\n",
       "\n",
       "    .dataframe tbody tr th {\n",
       "        vertical-align: top;\n",
       "    }\n",
       "\n",
       "    .dataframe thead th {\n",
       "        text-align: right;\n",
       "    }\n",
       "</style>\n",
       "<table border=\"1\" class=\"dataframe\">\n",
       "  <thead>\n",
       "    <tr style=\"text-align: right;\">\n",
       "      <th></th>\n",
       "      <th>Unnamed: 0</th>\n",
       "      <th>iso-3</th>\n",
       "      <th>1960</th>\n",
       "      <th>1961</th>\n",
       "      <th>1962</th>\n",
       "      <th>1963</th>\n",
       "      <th>1964</th>\n",
       "      <th>1965</th>\n",
       "      <th>1966</th>\n",
       "      <th>1967</th>\n",
       "      <th>...</th>\n",
       "      <th>2011</th>\n",
       "      <th>2012</th>\n",
       "      <th>2013</th>\n",
       "      <th>2014</th>\n",
       "      <th>2015</th>\n",
       "      <th>2016</th>\n",
       "      <th>2017</th>\n",
       "      <th>2018</th>\n",
       "      <th>2019</th>\n",
       "      <th>2020</th>\n",
       "    </tr>\n",
       "  </thead>\n",
       "  <tbody>\n",
       "    <tr>\n",
       "      <th>0</th>\n",
       "      <td>0</td>\n",
       "      <td>ABW</td>\n",
       "      <td>54608.0</td>\n",
       "      <td>55811.0</td>\n",
       "      <td>56682.0</td>\n",
       "      <td>57475.0</td>\n",
       "      <td>58178.0</td>\n",
       "      <td>58782.0</td>\n",
       "      <td>59291.0</td>\n",
       "      <td>59522.0</td>\n",
       "      <td>...</td>\n",
       "      <td>101288.0</td>\n",
       "      <td>102112.0</td>\n",
       "      <td>102880.0</td>\n",
       "      <td>103594.0</td>\n",
       "      <td>104257.0</td>\n",
       "      <td>104874.0</td>\n",
       "      <td>105439.0</td>\n",
       "      <td>105962.0</td>\n",
       "      <td>106442.0</td>\n",
       "      <td>106585.0</td>\n",
       "    </tr>\n",
       "    <tr>\n",
       "      <th>1</th>\n",
       "      <td>1</td>\n",
       "      <td>AFE</td>\n",
       "      <td>130692579.0</td>\n",
       "      <td>134169237.0</td>\n",
       "      <td>137835590.0</td>\n",
       "      <td>141630546.0</td>\n",
       "      <td>145605995.0</td>\n",
       "      <td>149742351.0</td>\n",
       "      <td>153955516.0</td>\n",
       "      <td>158313235.0</td>\n",
       "      <td>...</td>\n",
       "      <td>537792950.0</td>\n",
       "      <td>552530654.0</td>\n",
       "      <td>567892149.0</td>\n",
       "      <td>583651101.0</td>\n",
       "      <td>600008424.0</td>\n",
       "      <td>616377605.0</td>\n",
       "      <td>632746570.0</td>\n",
       "      <td>649757148.0</td>\n",
       "      <td>667242986.0</td>\n",
       "      <td>685112979.0</td>\n",
       "    </tr>\n",
       "    <tr>\n",
       "      <th>2</th>\n",
       "      <td>2</td>\n",
       "      <td>AFG</td>\n",
       "      <td>8622466.0</td>\n",
       "      <td>8790140.0</td>\n",
       "      <td>8969047.0</td>\n",
       "      <td>9157465.0</td>\n",
       "      <td>9355514.0</td>\n",
       "      <td>9565147.0</td>\n",
       "      <td>9783147.0</td>\n",
       "      <td>10010030.0</td>\n",
       "      <td>...</td>\n",
       "      <td>29249157.0</td>\n",
       "      <td>30466479.0</td>\n",
       "      <td>31541209.0</td>\n",
       "      <td>32716210.0</td>\n",
       "      <td>33753499.0</td>\n",
       "      <td>34636207.0</td>\n",
       "      <td>35643418.0</td>\n",
       "      <td>36686784.0</td>\n",
       "      <td>37769499.0</td>\n",
       "      <td>38972230.0</td>\n",
       "    </tr>\n",
       "    <tr>\n",
       "      <th>3</th>\n",
       "      <td>3</td>\n",
       "      <td>AFW</td>\n",
       "      <td>97256290.0</td>\n",
       "      <td>99314028.0</td>\n",
       "      <td>101445032.0</td>\n",
       "      <td>103667517.0</td>\n",
       "      <td>105959979.0</td>\n",
       "      <td>108336203.0</td>\n",
       "      <td>110798486.0</td>\n",
       "      <td>113319950.0</td>\n",
       "      <td>...</td>\n",
       "      <td>366489204.0</td>\n",
       "      <td>376797999.0</td>\n",
       "      <td>387204553.0</td>\n",
       "      <td>397855507.0</td>\n",
       "      <td>408690375.0</td>\n",
       "      <td>419778384.0</td>\n",
       "      <td>431138704.0</td>\n",
       "      <td>442646825.0</td>\n",
       "      <td>454306063.0</td>\n",
       "      <td>466189102.0</td>\n",
       "    </tr>\n",
       "    <tr>\n",
       "      <th>4</th>\n",
       "      <td>4</td>\n",
       "      <td>AGO</td>\n",
       "      <td>5357195.0</td>\n",
       "      <td>5441333.0</td>\n",
       "      <td>5521400.0</td>\n",
       "      <td>5599827.0</td>\n",
       "      <td>5673199.0</td>\n",
       "      <td>5736582.0</td>\n",
       "      <td>5787044.0</td>\n",
       "      <td>5827503.0</td>\n",
       "      <td>...</td>\n",
       "      <td>24259111.0</td>\n",
       "      <td>25188292.0</td>\n",
       "      <td>26147002.0</td>\n",
       "      <td>27128337.0</td>\n",
       "      <td>28127721.0</td>\n",
       "      <td>29154746.0</td>\n",
       "      <td>30208628.0</td>\n",
       "      <td>31273533.0</td>\n",
       "      <td>32353588.0</td>\n",
       "      <td>33428486.0</td>\n",
       "    </tr>\n",
       "  </tbody>\n",
       "</table>\n",
       "<p>5 rows × 63 columns</p>\n",
       "</div>"
      ],
      "text/plain": [
       "   Unnamed: 0 iso-3         1960         1961         1962         1963  \\\n",
       "0           0   ABW      54608.0      55811.0      56682.0      57475.0   \n",
       "1           1   AFE  130692579.0  134169237.0  137835590.0  141630546.0   \n",
       "2           2   AFG    8622466.0    8790140.0    8969047.0    9157465.0   \n",
       "3           3   AFW   97256290.0   99314028.0  101445032.0  103667517.0   \n",
       "4           4   AGO    5357195.0    5441333.0    5521400.0    5599827.0   \n",
       "\n",
       "          1964         1965         1966         1967  ...         2011  \\\n",
       "0      58178.0      58782.0      59291.0      59522.0  ...     101288.0   \n",
       "1  145605995.0  149742351.0  153955516.0  158313235.0  ...  537792950.0   \n",
       "2    9355514.0    9565147.0    9783147.0   10010030.0  ...   29249157.0   \n",
       "3  105959979.0  108336203.0  110798486.0  113319950.0  ...  366489204.0   \n",
       "4    5673199.0    5736582.0    5787044.0    5827503.0  ...   24259111.0   \n",
       "\n",
       "          2012         2013         2014         2015         2016  \\\n",
       "0     102112.0     102880.0     103594.0     104257.0     104874.0   \n",
       "1  552530654.0  567892149.0  583651101.0  600008424.0  616377605.0   \n",
       "2   30466479.0   31541209.0   32716210.0   33753499.0   34636207.0   \n",
       "3  376797999.0  387204553.0  397855507.0  408690375.0  419778384.0   \n",
       "4   25188292.0   26147002.0   27128337.0   28127721.0   29154746.0   \n",
       "\n",
       "          2017         2018         2019         2020  \n",
       "0     105439.0     105962.0     106442.0     106585.0  \n",
       "1  632746570.0  649757148.0  667242986.0  685112979.0  \n",
       "2   35643418.0   36686784.0   37769499.0   38972230.0  \n",
       "3  431138704.0  442646825.0  454306063.0  466189102.0  \n",
       "4   30208628.0   31273533.0   32353588.0   33428486.0  \n",
       "\n",
       "[5 rows x 63 columns]"
      ]
     },
     "execution_count": 10,
     "metadata": {},
     "output_type": "execute_result"
    }
   ],
   "source": [
    "popdt = pd.read_csv(\"https://raw.githubusercontent.com/su-mt4007/data/refs/heads/main/pop_data.csv\")\n",
    "popdt.head()"
   ]
  },
  {
   "cell_type": "markdown",
   "id": "29e55c04-6c4e-4c85-8280-902474ef858f",
   "metadata": {},
   "source": [
    "#### Deal with missing values"
   ]
  },
  {
   "cell_type": "code",
   "execution_count": 11,
   "id": "d2289adb-cd58-4162-9d90-9ae686a9169c",
   "metadata": {},
   "outputs": [],
   "source": [
    "# popdt.isnull().sum() # number of missing values for each column"
   ]
  },
  {
   "cell_type": "code",
   "execution_count": 12,
   "id": "6e404097-7877-472e-8e17-30dcdbd4dc2d",
   "metadata": {},
   "outputs": [],
   "source": [
    "# popdt.info() # overview of data"
   ]
  },
  {
   "cell_type": "markdown",
   "id": "f042d9ff-eb4e-46bc-a30d-ed2e12b42adb",
   "metadata": {},
   "source": [
    "We can see that for the year 1960, 1961 and 1962 there are 2 missing values. We will start by replace the non values for 1960 with 0.0"
   ]
  },
  {
   "cell_type": "code",
   "execution_count": 13,
   "id": "4df5e178-6332-4271-bf75-3f6c1bc47891",
   "metadata": {},
   "outputs": [],
   "source": [
    "#for year in popdt.columns[2:]:  # Starts from 1960\n",
    "#    for row in range(len(popdt)):  # goes through every row\n",
    "#        if pd.isnull(popdt.loc[row, year]):  \n",
    "#            popdt.loc[row, year] = 0.0  # replace non values with 0.0\n",
    "#popdt.head()"
   ]
  },
  {
   "cell_type": "code",
   "execution_count": 14,
   "id": "e7e051c0-fb84-4df8-b1ff-2a2ef96d358d",
   "metadata": {},
   "outputs": [],
   "source": [
    "popdt.iloc[:, 2:] = popdt.iloc[:, 2:].fillna(0.0)"
   ]
  },
  {
   "cell_type": "code",
   "execution_count": 15,
   "id": "cb8bfb19-61ee-4dc1-9f97-685faa7281b9",
   "metadata": {},
   "outputs": [
    {
     "data": {
      "text/plain": [
       "0"
      ]
     },
     "execution_count": 15,
     "metadata": {},
     "output_type": "execute_result"
    }
   ],
   "source": [
    "popdt.isnull().sum().sum() # see if any missing values exist"
   ]
  },
  {
   "cell_type": "markdown",
   "id": "09f1a18c-5438-4903-8058-79bca5086411",
   "metadata": {},
   "source": [
    "### Reshape the cellphone- and population data"
   ]
  },
  {
   "cell_type": "markdown",
   "id": "cdb7db36-ce21-42c8-8ae0-9e1dee7e8153",
   "metadata": {},
   "source": [
    "We are going to use pd.melt(). to reshape the population dataset so that each row represents country, year, cellphones and population. After that we can apply the .merge() to combine them. "
   ]
  },
  {
   "cell_type": "code",
   "execution_count": 16,
   "id": "a140df9b-eed2-4f09-b6c0-2d590cbc8160",
   "metadata": {},
   "outputs": [
    {
     "data": {
      "text/html": [
       "<div>\n",
       "<style scoped>\n",
       "    .dataframe tbody tr th:only-of-type {\n",
       "        vertical-align: middle;\n",
       "    }\n",
       "\n",
       "    .dataframe tbody tr th {\n",
       "        vertical-align: top;\n",
       "    }\n",
       "\n",
       "    .dataframe thead th {\n",
       "        text-align: right;\n",
       "    }\n",
       "</style>\n",
       "<table border=\"1\" class=\"dataframe\">\n",
       "  <thead>\n",
       "    <tr style=\"text-align: right;\">\n",
       "      <th></th>\n",
       "      <th>iso-3</th>\n",
       "      <th>year</th>\n",
       "      <th>population</th>\n",
       "    </tr>\n",
       "  </thead>\n",
       "  <tbody>\n",
       "    <tr>\n",
       "      <th>0</th>\n",
       "      <td>ABW</td>\n",
       "      <td>Unnamed: 0</td>\n",
       "      <td>0.0</td>\n",
       "    </tr>\n",
       "    <tr>\n",
       "      <th>1</th>\n",
       "      <td>AFE</td>\n",
       "      <td>Unnamed: 0</td>\n",
       "      <td>1.0</td>\n",
       "    </tr>\n",
       "    <tr>\n",
       "      <th>2</th>\n",
       "      <td>AFG</td>\n",
       "      <td>Unnamed: 0</td>\n",
       "      <td>2.0</td>\n",
       "    </tr>\n",
       "    <tr>\n",
       "      <th>3</th>\n",
       "      <td>AFW</td>\n",
       "      <td>Unnamed: 0</td>\n",
       "      <td>3.0</td>\n",
       "    </tr>\n",
       "    <tr>\n",
       "      <th>4</th>\n",
       "      <td>AGO</td>\n",
       "      <td>Unnamed: 0</td>\n",
       "      <td>4.0</td>\n",
       "    </tr>\n",
       "  </tbody>\n",
       "</table>\n",
       "</div>"
      ],
      "text/plain": [
       "  iso-3        year  population\n",
       "0   ABW  Unnamed: 0         0.0\n",
       "1   AFE  Unnamed: 0         1.0\n",
       "2   AFG  Unnamed: 0         2.0\n",
       "3   AFW  Unnamed: 0         3.0\n",
       "4   AGO  Unnamed: 0         4.0"
      ]
     },
     "execution_count": 16,
     "metadata": {},
     "output_type": "execute_result"
    }
   ],
   "source": [
    "reshaped_pop = popdt.melt(id_vars = 'iso-3', var_name = 'year', value_name = 'population')\n",
    "reshaped_pop.head()"
   ]
  },
  {
   "cell_type": "code",
   "execution_count": 17,
   "id": "2e4eccf1-1d02-4766-b955-a57218a8b826",
   "metadata": {},
   "outputs": [
    {
     "data": {
      "text/html": [
       "<div>\n",
       "<style scoped>\n",
       "    .dataframe tbody tr th:only-of-type {\n",
       "        vertical-align: middle;\n",
       "    }\n",
       "\n",
       "    .dataframe tbody tr th {\n",
       "        vertical-align: top;\n",
       "    }\n",
       "\n",
       "    .dataframe thead th {\n",
       "        text-align: right;\n",
       "    }\n",
       "</style>\n",
       "<table border=\"1\" class=\"dataframe\">\n",
       "  <thead>\n",
       "    <tr style=\"text-align: right;\">\n",
       "      <th></th>\n",
       "      <th>iso-3</th>\n",
       "      <th>year</th>\n",
       "      <th>n_cellphones</th>\n",
       "    </tr>\n",
       "  </thead>\n",
       "  <tbody>\n",
       "    <tr>\n",
       "      <th>0</th>\n",
       "      <td>ABW</td>\n",
       "      <td>1960</td>\n",
       "      <td>0.0</td>\n",
       "    </tr>\n",
       "    <tr>\n",
       "      <th>1</th>\n",
       "      <td>AFG</td>\n",
       "      <td>1960</td>\n",
       "      <td>0.0</td>\n",
       "    </tr>\n",
       "    <tr>\n",
       "      <th>2</th>\n",
       "      <td>AGO</td>\n",
       "      <td>1960</td>\n",
       "      <td>0.0</td>\n",
       "    </tr>\n",
       "    <tr>\n",
       "      <th>3</th>\n",
       "      <td>ALB</td>\n",
       "      <td>1960</td>\n",
       "      <td>0.0</td>\n",
       "    </tr>\n",
       "    <tr>\n",
       "      <th>4</th>\n",
       "      <td>AND</td>\n",
       "      <td>1960</td>\n",
       "      <td>0.0</td>\n",
       "    </tr>\n",
       "  </tbody>\n",
       "</table>\n",
       "</div>"
      ],
      "text/plain": [
       "  iso-3  year  n_cellphones\n",
       "0   ABW  1960           0.0\n",
       "1   AFG  1960           0.0\n",
       "2   AGO  1960           0.0\n",
       "3   ALB  1960           0.0\n",
       "4   AND  1960           0.0"
      ]
     },
     "execution_count": 17,
     "metadata": {},
     "output_type": "execute_result"
    }
   ],
   "source": [
    "reshaped_cell = cleaned_data.melt(id_vars = 'iso-3', var_name = 'year', value_name = 'n_cellphones')\n",
    "reshaped_cell.head()"
   ]
  },
  {
   "cell_type": "markdown",
   "id": "1c481b44-90ee-40d9-9bef-da154cf7e4a3",
   "metadata": {},
   "source": [
    "### Combine the cell phone data with the population data"
   ]
  },
  {
   "cell_type": "markdown",
   "id": "90adfaac-a170-43d8-9b61-193e94f02e1f",
   "metadata": {},
   "source": [
    "We can now use the merge() command. "
   ]
  },
  {
   "cell_type": "code",
   "execution_count": 18,
   "id": "e1e42090-09b2-4315-96e7-fecb2a156f87",
   "metadata": {},
   "outputs": [
    {
     "data": {
      "text/html": [
       "<div>\n",
       "<style scoped>\n",
       "    .dataframe tbody tr th:only-of-type {\n",
       "        vertical-align: middle;\n",
       "    }\n",
       "\n",
       "    .dataframe tbody tr th {\n",
       "        vertical-align: top;\n",
       "    }\n",
       "\n",
       "    .dataframe thead th {\n",
       "        text-align: right;\n",
       "    }\n",
       "</style>\n",
       "<table border=\"1\" class=\"dataframe\">\n",
       "  <thead>\n",
       "    <tr style=\"text-align: right;\">\n",
       "      <th></th>\n",
       "      <th>iso-3</th>\n",
       "      <th>year</th>\n",
       "      <th>n_cellphones</th>\n",
       "      <th>population</th>\n",
       "    </tr>\n",
       "  </thead>\n",
       "  <tbody>\n",
       "    <tr>\n",
       "      <th>0</th>\n",
       "      <td>ABW</td>\n",
       "      <td>1960</td>\n",
       "      <td>0.0</td>\n",
       "      <td>54608.0</td>\n",
       "    </tr>\n",
       "    <tr>\n",
       "      <th>1</th>\n",
       "      <td>AFG</td>\n",
       "      <td>1960</td>\n",
       "      <td>0.0</td>\n",
       "      <td>8622466.0</td>\n",
       "    </tr>\n",
       "    <tr>\n",
       "      <th>2</th>\n",
       "      <td>AGO</td>\n",
       "      <td>1960</td>\n",
       "      <td>0.0</td>\n",
       "      <td>5357195.0</td>\n",
       "    </tr>\n",
       "    <tr>\n",
       "      <th>3</th>\n",
       "      <td>ALB</td>\n",
       "      <td>1960</td>\n",
       "      <td>0.0</td>\n",
       "      <td>1608800.0</td>\n",
       "    </tr>\n",
       "    <tr>\n",
       "      <th>4</th>\n",
       "      <td>AND</td>\n",
       "      <td>1960</td>\n",
       "      <td>0.0</td>\n",
       "      <td>9443.0</td>\n",
       "    </tr>\n",
       "  </tbody>\n",
       "</table>\n",
       "</div>"
      ],
      "text/plain": [
       "  iso-3  year  n_cellphones  population\n",
       "0   ABW  1960           0.0     54608.0\n",
       "1   AFG  1960           0.0   8622466.0\n",
       "2   AGO  1960           0.0   5357195.0\n",
       "3   ALB  1960           0.0   1608800.0\n",
       "4   AND  1960           0.0      9443.0"
      ]
     },
     "execution_count": 18,
     "metadata": {},
     "output_type": "execute_result"
    }
   ],
   "source": [
    "cell_pop_df = reshaped_cell.merge(reshaped_pop, on = ['iso-3', 'year'], how = 'inner')\n",
    "cell_pop_df.head()"
   ]
  },
  {
   "cell_type": "markdown",
   "id": "16f70306-8ce1-4b4a-8300-c112dde240ed",
   "metadata": {},
   "source": [
    "#### Country data"
   ]
  },
  {
   "cell_type": "code",
   "execution_count": 19,
   "id": "c1fff30c-e6d7-4801-9931-7938a8c45809",
   "metadata": {},
   "outputs": [
    {
     "data": {
      "text/html": [
       "<div>\n",
       "<style scoped>\n",
       "    .dataframe tbody tr th:only-of-type {\n",
       "        vertical-align: middle;\n",
       "    }\n",
       "\n",
       "    .dataframe tbody tr th {\n",
       "        vertical-align: top;\n",
       "    }\n",
       "\n",
       "    .dataframe thead th {\n",
       "        text-align: right;\n",
       "    }\n",
       "</style>\n",
       "<table border=\"1\" class=\"dataframe\">\n",
       "  <thead>\n",
       "    <tr style=\"text-align: right;\">\n",
       "      <th></th>\n",
       "      <th>name</th>\n",
       "      <th>alpha-2</th>\n",
       "      <th>iso-3</th>\n",
       "      <th>country-code</th>\n",
       "      <th>iso_3166-2</th>\n",
       "      <th>region</th>\n",
       "      <th>sub-region</th>\n",
       "      <th>intermediate-region</th>\n",
       "      <th>region-code</th>\n",
       "      <th>sub-region-code</th>\n",
       "      <th>intermediate-region-code</th>\n",
       "    </tr>\n",
       "  </thead>\n",
       "  <tbody>\n",
       "    <tr>\n",
       "      <th>0</th>\n",
       "      <td>Afghanistan</td>\n",
       "      <td>AF</td>\n",
       "      <td>AFG</td>\n",
       "      <td>4</td>\n",
       "      <td>ISO 3166-2:AF</td>\n",
       "      <td>Asia</td>\n",
       "      <td>Southern Asia</td>\n",
       "      <td>NaN</td>\n",
       "      <td>142.0</td>\n",
       "      <td>34.0</td>\n",
       "      <td>NaN</td>\n",
       "    </tr>\n",
       "    <tr>\n",
       "      <th>1</th>\n",
       "      <td>Åland Islands</td>\n",
       "      <td>AX</td>\n",
       "      <td>ALA</td>\n",
       "      <td>248</td>\n",
       "      <td>ISO 3166-2:AX</td>\n",
       "      <td>Europe</td>\n",
       "      <td>Northern Europe</td>\n",
       "      <td>NaN</td>\n",
       "      <td>150.0</td>\n",
       "      <td>154.0</td>\n",
       "      <td>NaN</td>\n",
       "    </tr>\n",
       "    <tr>\n",
       "      <th>2</th>\n",
       "      <td>Albania</td>\n",
       "      <td>AL</td>\n",
       "      <td>ALB</td>\n",
       "      <td>8</td>\n",
       "      <td>ISO 3166-2:AL</td>\n",
       "      <td>Europe</td>\n",
       "      <td>Southern Europe</td>\n",
       "      <td>NaN</td>\n",
       "      <td>150.0</td>\n",
       "      <td>39.0</td>\n",
       "      <td>NaN</td>\n",
       "    </tr>\n",
       "    <tr>\n",
       "      <th>3</th>\n",
       "      <td>Algeria</td>\n",
       "      <td>DZ</td>\n",
       "      <td>DZA</td>\n",
       "      <td>12</td>\n",
       "      <td>ISO 3166-2:DZ</td>\n",
       "      <td>Africa</td>\n",
       "      <td>Northern Africa</td>\n",
       "      <td>NaN</td>\n",
       "      <td>2.0</td>\n",
       "      <td>15.0</td>\n",
       "      <td>NaN</td>\n",
       "    </tr>\n",
       "    <tr>\n",
       "      <th>4</th>\n",
       "      <td>American Samoa</td>\n",
       "      <td>AS</td>\n",
       "      <td>ASM</td>\n",
       "      <td>16</td>\n",
       "      <td>ISO 3166-2:AS</td>\n",
       "      <td>Oceania</td>\n",
       "      <td>Polynesia</td>\n",
       "      <td>NaN</td>\n",
       "      <td>9.0</td>\n",
       "      <td>61.0</td>\n",
       "      <td>NaN</td>\n",
       "    </tr>\n",
       "  </tbody>\n",
       "</table>\n",
       "</div>"
      ],
      "text/plain": [
       "             name alpha-2 iso-3  country-code     iso_3166-2   region  \\\n",
       "0     Afghanistan      AF   AFG             4  ISO 3166-2:AF     Asia   \n",
       "1   Åland Islands      AX   ALA           248  ISO 3166-2:AX   Europe   \n",
       "2         Albania      AL   ALB             8  ISO 3166-2:AL   Europe   \n",
       "3         Algeria      DZ   DZA            12  ISO 3166-2:DZ   Africa   \n",
       "4  American Samoa      AS   ASM            16  ISO 3166-2:AS  Oceania   \n",
       "\n",
       "        sub-region intermediate-region  region-code  sub-region-code  \\\n",
       "0    Southern Asia                 NaN        142.0             34.0   \n",
       "1  Northern Europe                 NaN        150.0            154.0   \n",
       "2  Southern Europe                 NaN        150.0             39.0   \n",
       "3  Northern Africa                 NaN          2.0             15.0   \n",
       "4        Polynesia                 NaN          9.0             61.0   \n",
       "\n",
       "   intermediate-region-code  \n",
       "0                       NaN  \n",
       "1                       NaN  \n",
       "2                       NaN  \n",
       "3                       NaN  \n",
       "4                       NaN  "
      ]
     },
     "execution_count": 19,
     "metadata": {},
     "output_type": "execute_result"
    }
   ],
   "source": [
    "country_df = pd.read_csv('https://raw.githubusercontent.com/su-mt4007/data/refs/heads/main/country_data.csv').rename(columns={'alpha-3':'iso-3'}) # rename coulmn name\n",
    "country_df.head()"
   ]
  },
  {
   "cell_type": "markdown",
   "id": "07fa9d5f-935a-40b3-aebd-94fb457d0e87",
   "metadata": {},
   "source": [
    "### Combine population-, cellphone- and country data"
   ]
  },
  {
   "cell_type": "code",
   "execution_count": 20,
   "id": "b4e883a3-f8e8-4e9d-88be-6d32d32aface",
   "metadata": {},
   "outputs": [
    {
     "data": {
      "text/html": [
       "<div>\n",
       "<style scoped>\n",
       "    .dataframe tbody tr th:only-of-type {\n",
       "        vertical-align: middle;\n",
       "    }\n",
       "\n",
       "    .dataframe tbody tr th {\n",
       "        vertical-align: top;\n",
       "    }\n",
       "\n",
       "    .dataframe thead th {\n",
       "        text-align: right;\n",
       "    }\n",
       "</style>\n",
       "<table border=\"1\" class=\"dataframe\">\n",
       "  <thead>\n",
       "    <tr style=\"text-align: right;\">\n",
       "      <th></th>\n",
       "      <th>iso-3</th>\n",
       "      <th>year</th>\n",
       "      <th>n_cellphones</th>\n",
       "      <th>population</th>\n",
       "      <th>name</th>\n",
       "      <th>alpha-2</th>\n",
       "      <th>country-code</th>\n",
       "      <th>iso_3166-2</th>\n",
       "      <th>region</th>\n",
       "      <th>sub-region</th>\n",
       "      <th>intermediate-region</th>\n",
       "      <th>region-code</th>\n",
       "      <th>sub-region-code</th>\n",
       "      <th>intermediate-region-code</th>\n",
       "    </tr>\n",
       "  </thead>\n",
       "  <tbody>\n",
       "    <tr>\n",
       "      <th>0</th>\n",
       "      <td>ABW</td>\n",
       "      <td>1960</td>\n",
       "      <td>0.0</td>\n",
       "      <td>54608.0</td>\n",
       "      <td>Aruba</td>\n",
       "      <td>AW</td>\n",
       "      <td>533</td>\n",
       "      <td>ISO 3166-2:AW</td>\n",
       "      <td>Americas</td>\n",
       "      <td>Latin America and the Caribbean</td>\n",
       "      <td>Caribbean</td>\n",
       "      <td>19.0</td>\n",
       "      <td>419.0</td>\n",
       "      <td>29.0</td>\n",
       "    </tr>\n",
       "    <tr>\n",
       "      <th>1</th>\n",
       "      <td>ABW</td>\n",
       "      <td>1965</td>\n",
       "      <td>0.0</td>\n",
       "      <td>58782.0</td>\n",
       "      <td>Aruba</td>\n",
       "      <td>AW</td>\n",
       "      <td>533</td>\n",
       "      <td>ISO 3166-2:AW</td>\n",
       "      <td>Americas</td>\n",
       "      <td>Latin America and the Caribbean</td>\n",
       "      <td>Caribbean</td>\n",
       "      <td>19.0</td>\n",
       "      <td>419.0</td>\n",
       "      <td>29.0</td>\n",
       "    </tr>\n",
       "    <tr>\n",
       "      <th>2</th>\n",
       "      <td>ABW</td>\n",
       "      <td>1966</td>\n",
       "      <td>0.0</td>\n",
       "      <td>59291.0</td>\n",
       "      <td>Aruba</td>\n",
       "      <td>AW</td>\n",
       "      <td>533</td>\n",
       "      <td>ISO 3166-2:AW</td>\n",
       "      <td>Americas</td>\n",
       "      <td>Latin America and the Caribbean</td>\n",
       "      <td>Caribbean</td>\n",
       "      <td>19.0</td>\n",
       "      <td>419.0</td>\n",
       "      <td>29.0</td>\n",
       "    </tr>\n",
       "    <tr>\n",
       "      <th>3</th>\n",
       "      <td>ABW</td>\n",
       "      <td>1967</td>\n",
       "      <td>0.0</td>\n",
       "      <td>59522.0</td>\n",
       "      <td>Aruba</td>\n",
       "      <td>AW</td>\n",
       "      <td>533</td>\n",
       "      <td>ISO 3166-2:AW</td>\n",
       "      <td>Americas</td>\n",
       "      <td>Latin America and the Caribbean</td>\n",
       "      <td>Caribbean</td>\n",
       "      <td>19.0</td>\n",
       "      <td>419.0</td>\n",
       "      <td>29.0</td>\n",
       "    </tr>\n",
       "    <tr>\n",
       "      <th>4</th>\n",
       "      <td>ABW</td>\n",
       "      <td>1968</td>\n",
       "      <td>0.0</td>\n",
       "      <td>59471.0</td>\n",
       "      <td>Aruba</td>\n",
       "      <td>AW</td>\n",
       "      <td>533</td>\n",
       "      <td>ISO 3166-2:AW</td>\n",
       "      <td>Americas</td>\n",
       "      <td>Latin America and the Caribbean</td>\n",
       "      <td>Caribbean</td>\n",
       "      <td>19.0</td>\n",
       "      <td>419.0</td>\n",
       "      <td>29.0</td>\n",
       "    </tr>\n",
       "  </tbody>\n",
       "</table>\n",
       "</div>"
      ],
      "text/plain": [
       "  iso-3  year  n_cellphones  population   name alpha-2  country-code  \\\n",
       "0   ABW  1960           0.0     54608.0  Aruba      AW           533   \n",
       "1   ABW  1965           0.0     58782.0  Aruba      AW           533   \n",
       "2   ABW  1966           0.0     59291.0  Aruba      AW           533   \n",
       "3   ABW  1967           0.0     59522.0  Aruba      AW           533   \n",
       "4   ABW  1968           0.0     59471.0  Aruba      AW           533   \n",
       "\n",
       "      iso_3166-2    region                       sub-region  \\\n",
       "0  ISO 3166-2:AW  Americas  Latin America and the Caribbean   \n",
       "1  ISO 3166-2:AW  Americas  Latin America and the Caribbean   \n",
       "2  ISO 3166-2:AW  Americas  Latin America and the Caribbean   \n",
       "3  ISO 3166-2:AW  Americas  Latin America and the Caribbean   \n",
       "4  ISO 3166-2:AW  Americas  Latin America and the Caribbean   \n",
       "\n",
       "  intermediate-region  region-code  sub-region-code  intermediate-region-code  \n",
       "0           Caribbean         19.0            419.0                      29.0  \n",
       "1           Caribbean         19.0            419.0                      29.0  \n",
       "2           Caribbean         19.0            419.0                      29.0  \n",
       "3           Caribbean         19.0            419.0                      29.0  \n",
       "4           Caribbean         19.0            419.0                      29.0  "
      ]
     },
     "execution_count": 20,
     "metadata": {},
     "output_type": "execute_result"
    }
   ],
   "source": [
    "merged_df = cell_pop_df.merge(country_df, on = 'iso-3')\n",
    "merged_df.head()"
   ]
  },
  {
   "cell_type": "markdown",
   "id": "4fe5ff75-419e-43cb-944a-c2212207db25",
   "metadata": {},
   "source": [
    "### Calcualte the number of phones per capita"
   ]
  },
  {
   "cell_type": "markdown",
   "id": "5e83a626-01de-45da-b450-ecbe5108f2cb",
   "metadata": {},
   "source": [
    "We calculathe this by n_cellphones/population_size."
   ]
  },
  {
   "cell_type": "code",
   "execution_count": 21,
   "id": "a9e4c2fd-b061-48ce-b923-e827e64e10c7",
   "metadata": {},
   "outputs": [
    {
     "data": {
      "text/html": [
       "<div>\n",
       "<style scoped>\n",
       "    .dataframe tbody tr th:only-of-type {\n",
       "        vertical-align: middle;\n",
       "    }\n",
       "\n",
       "    .dataframe tbody tr th {\n",
       "        vertical-align: top;\n",
       "    }\n",
       "\n",
       "    .dataframe thead th {\n",
       "        text-align: right;\n",
       "    }\n",
       "</style>\n",
       "<table border=\"1\" class=\"dataframe\">\n",
       "  <thead>\n",
       "    <tr style=\"text-align: right;\">\n",
       "      <th></th>\n",
       "      <th>iso-3</th>\n",
       "      <th>year</th>\n",
       "      <th>n_cellphones</th>\n",
       "      <th>population</th>\n",
       "      <th>name</th>\n",
       "      <th>alpha-2</th>\n",
       "      <th>country-code</th>\n",
       "      <th>iso_3166-2</th>\n",
       "      <th>region</th>\n",
       "      <th>sub-region</th>\n",
       "      <th>intermediate-region</th>\n",
       "      <th>region-code</th>\n",
       "      <th>sub-region-code</th>\n",
       "      <th>intermediate-region-code</th>\n",
       "      <th>phones per capita</th>\n",
       "    </tr>\n",
       "  </thead>\n",
       "  <tbody>\n",
       "    <tr>\n",
       "      <th>0</th>\n",
       "      <td>ABW</td>\n",
       "      <td>1960</td>\n",
       "      <td>0.0</td>\n",
       "      <td>54608.0</td>\n",
       "      <td>Aruba</td>\n",
       "      <td>AW</td>\n",
       "      <td>533</td>\n",
       "      <td>ISO 3166-2:AW</td>\n",
       "      <td>Americas</td>\n",
       "      <td>Latin America and the Caribbean</td>\n",
       "      <td>Caribbean</td>\n",
       "      <td>19.0</td>\n",
       "      <td>419.0</td>\n",
       "      <td>29.0</td>\n",
       "      <td>0.0</td>\n",
       "    </tr>\n",
       "    <tr>\n",
       "      <th>1</th>\n",
       "      <td>ABW</td>\n",
       "      <td>1965</td>\n",
       "      <td>0.0</td>\n",
       "      <td>58782.0</td>\n",
       "      <td>Aruba</td>\n",
       "      <td>AW</td>\n",
       "      <td>533</td>\n",
       "      <td>ISO 3166-2:AW</td>\n",
       "      <td>Americas</td>\n",
       "      <td>Latin America and the Caribbean</td>\n",
       "      <td>Caribbean</td>\n",
       "      <td>19.0</td>\n",
       "      <td>419.0</td>\n",
       "      <td>29.0</td>\n",
       "      <td>0.0</td>\n",
       "    </tr>\n",
       "    <tr>\n",
       "      <th>2</th>\n",
       "      <td>ABW</td>\n",
       "      <td>1966</td>\n",
       "      <td>0.0</td>\n",
       "      <td>59291.0</td>\n",
       "      <td>Aruba</td>\n",
       "      <td>AW</td>\n",
       "      <td>533</td>\n",
       "      <td>ISO 3166-2:AW</td>\n",
       "      <td>Americas</td>\n",
       "      <td>Latin America and the Caribbean</td>\n",
       "      <td>Caribbean</td>\n",
       "      <td>19.0</td>\n",
       "      <td>419.0</td>\n",
       "      <td>29.0</td>\n",
       "      <td>0.0</td>\n",
       "    </tr>\n",
       "    <tr>\n",
       "      <th>3</th>\n",
       "      <td>ABW</td>\n",
       "      <td>1967</td>\n",
       "      <td>0.0</td>\n",
       "      <td>59522.0</td>\n",
       "      <td>Aruba</td>\n",
       "      <td>AW</td>\n",
       "      <td>533</td>\n",
       "      <td>ISO 3166-2:AW</td>\n",
       "      <td>Americas</td>\n",
       "      <td>Latin America and the Caribbean</td>\n",
       "      <td>Caribbean</td>\n",
       "      <td>19.0</td>\n",
       "      <td>419.0</td>\n",
       "      <td>29.0</td>\n",
       "      <td>0.0</td>\n",
       "    </tr>\n",
       "    <tr>\n",
       "      <th>4</th>\n",
       "      <td>ABW</td>\n",
       "      <td>1968</td>\n",
       "      <td>0.0</td>\n",
       "      <td>59471.0</td>\n",
       "      <td>Aruba</td>\n",
       "      <td>AW</td>\n",
       "      <td>533</td>\n",
       "      <td>ISO 3166-2:AW</td>\n",
       "      <td>Americas</td>\n",
       "      <td>Latin America and the Caribbean</td>\n",
       "      <td>Caribbean</td>\n",
       "      <td>19.0</td>\n",
       "      <td>419.0</td>\n",
       "      <td>29.0</td>\n",
       "      <td>0.0</td>\n",
       "    </tr>\n",
       "  </tbody>\n",
       "</table>\n",
       "</div>"
      ],
      "text/plain": [
       "  iso-3  year  n_cellphones  population   name alpha-2  country-code  \\\n",
       "0   ABW  1960           0.0     54608.0  Aruba      AW           533   \n",
       "1   ABW  1965           0.0     58782.0  Aruba      AW           533   \n",
       "2   ABW  1966           0.0     59291.0  Aruba      AW           533   \n",
       "3   ABW  1967           0.0     59522.0  Aruba      AW           533   \n",
       "4   ABW  1968           0.0     59471.0  Aruba      AW           533   \n",
       "\n",
       "      iso_3166-2    region                       sub-region  \\\n",
       "0  ISO 3166-2:AW  Americas  Latin America and the Caribbean   \n",
       "1  ISO 3166-2:AW  Americas  Latin America and the Caribbean   \n",
       "2  ISO 3166-2:AW  Americas  Latin America and the Caribbean   \n",
       "3  ISO 3166-2:AW  Americas  Latin America and the Caribbean   \n",
       "4  ISO 3166-2:AW  Americas  Latin America and the Caribbean   \n",
       "\n",
       "  intermediate-region  region-code  sub-region-code  intermediate-region-code  \\\n",
       "0           Caribbean         19.0            419.0                      29.0   \n",
       "1           Caribbean         19.0            419.0                      29.0   \n",
       "2           Caribbean         19.0            419.0                      29.0   \n",
       "3           Caribbean         19.0            419.0                      29.0   \n",
       "4           Caribbean         19.0            419.0                      29.0   \n",
       "\n",
       "   phones per capita  \n",
       "0                0.0  \n",
       "1                0.0  \n",
       "2                0.0  \n",
       "3                0.0  \n",
       "4                0.0  "
      ]
     },
     "execution_count": 21,
     "metadata": {},
     "output_type": "execute_result"
    }
   ],
   "source": [
    "merged_df['phones per capita'] = merged_df['n_cellphones']/merged_df['population'] # create a new colum for phones per capita\n",
    "merged_df.head()"
   ]
  },
  {
   "cell_type": "code",
   "execution_count": 22,
   "id": "86c7e29b-ba5d-4d3e-80b1-38e9093d1017",
   "metadata": {},
   "outputs": [
    {
     "data": {
      "text/html": [
       "<div>\n",
       "<style scoped>\n",
       "    .dataframe tbody tr th:only-of-type {\n",
       "        vertical-align: middle;\n",
       "    }\n",
       "\n",
       "    .dataframe tbody tr th {\n",
       "        vertical-align: top;\n",
       "    }\n",
       "\n",
       "    .dataframe thead th {\n",
       "        text-align: right;\n",
       "    }\n",
       "</style>\n",
       "<table border=\"1\" class=\"dataframe\">\n",
       "  <thead>\n",
       "    <tr style=\"text-align: right;\">\n",
       "      <th>name</th>\n",
       "      <th>year</th>\n",
       "      <th>Macao</th>\n",
       "      <th>Hong Kong</th>\n",
       "      <th>United Arab Emirates</th>\n",
       "      <th>Antigua and Barbuda</th>\n",
       "      <th>Seychelles</th>\n",
       "    </tr>\n",
       "  </thead>\n",
       "  <tbody>\n",
       "    <tr>\n",
       "      <th>0</th>\n",
       "      <td>2010</td>\n",
       "      <td>2.009700</td>\n",
       "      <td>1.964637</td>\n",
       "      <td>1.285109</td>\n",
       "      <td>1.960441</td>\n",
       "      <td>1.314470</td>\n",
       "    </tr>\n",
       "    <tr>\n",
       "      <th>1</th>\n",
       "      <td>2011</td>\n",
       "      <td>2.364261</td>\n",
       "      <td>2.163584</td>\n",
       "      <td>1.364399</td>\n",
       "      <td>2.029310</td>\n",
       "      <td>1.452408</td>\n",
       "    </tr>\n",
       "    <tr>\n",
       "      <th>2</th>\n",
       "      <td>2012</td>\n",
       "      <td>2.762687</td>\n",
       "      <td>2.293674</td>\n",
       "      <td>1.592620</td>\n",
       "      <td>1.448548</td>\n",
       "      <td>1.540152</td>\n",
       "    </tr>\n",
       "    <tr>\n",
       "      <th>3</th>\n",
       "      <td>2013</td>\n",
       "      <td>2.898678</td>\n",
       "      <td>2.368051</td>\n",
       "      <td>1.839612</td>\n",
       "      <td>1.288179</td>\n",
       "      <td>1.523085</td>\n",
       "    </tr>\n",
       "    <tr>\n",
       "      <th>4</th>\n",
       "      <td>2014</td>\n",
       "      <td>3.078619</td>\n",
       "      <td>2.351477</td>\n",
       "      <td>1.901323</td>\n",
       "      <td>1.344749</td>\n",
       "      <td>1.652820</td>\n",
       "    </tr>\n",
       "    <tr>\n",
       "      <th>5</th>\n",
       "      <td>2015</td>\n",
       "      <td>3.088231</td>\n",
       "      <td>2.290401</td>\n",
       "      <td>2.007424</td>\n",
       "      <td>1.956838</td>\n",
       "      <td>1.584260</td>\n",
       "    </tr>\n",
       "    <tr>\n",
       "      <th>6</th>\n",
       "      <td>2016</td>\n",
       "      <td>3.143510</td>\n",
       "      <td>2.398931</td>\n",
       "      <td>2.212521</td>\n",
       "      <td>1.987545</td>\n",
       "      <td>1.605459</td>\n",
       "    </tr>\n",
       "    <tr>\n",
       "      <th>7</th>\n",
       "      <td>2017</td>\n",
       "      <td>3.210102</td>\n",
       "      <td>2.488773</td>\n",
       "      <td>2.183431</td>\n",
       "      <td>2.019337</td>\n",
       "      <td>1.742433</td>\n",
       "    </tr>\n",
       "    <tr>\n",
       "      <th>8</th>\n",
       "      <td>2018</td>\n",
       "      <td>3.348741</td>\n",
       "      <td>2.670209</td>\n",
       "      <td>2.199084</td>\n",
       "      <td>2.008164</td>\n",
       "      <td>1.849900</td>\n",
       "    </tr>\n",
       "    <tr>\n",
       "      <th>9</th>\n",
       "      <td>2019</td>\n",
       "      <td>3.284849</td>\n",
       "      <td>2.863650</td>\n",
       "      <td>2.127739</td>\n",
       "      <td>1.997460</td>\n",
       "      <td>1.987196</td>\n",
       "    </tr>\n",
       "  </tbody>\n",
       "</table>\n",
       "</div>"
      ],
      "text/plain": [
       "name  year     Macao  Hong Kong  United Arab Emirates  Antigua and Barbuda  \\\n",
       "0     2010  2.009700   1.964637              1.285109             1.960441   \n",
       "1     2011  2.364261   2.163584              1.364399             2.029310   \n",
       "2     2012  2.762687   2.293674              1.592620             1.448548   \n",
       "3     2013  2.898678   2.368051              1.839612             1.288179   \n",
       "4     2014  3.078619   2.351477              1.901323             1.344749   \n",
       "5     2015  3.088231   2.290401              2.007424             1.956838   \n",
       "6     2016  3.143510   2.398931              2.212521             1.987545   \n",
       "7     2017  3.210102   2.488773              2.183431             2.019337   \n",
       "8     2018  3.348741   2.670209              2.199084             2.008164   \n",
       "9     2019  3.284849   2.863650              2.127739             1.997460   \n",
       "\n",
       "name  Seychelles  \n",
       "0       1.314470  \n",
       "1       1.452408  \n",
       "2       1.540152  \n",
       "3       1.523085  \n",
       "4       1.652820  \n",
       "5       1.584260  \n",
       "6       1.605459  \n",
       "7       1.742433  \n",
       "8       1.849900  \n",
       "9       1.987196  "
      ]
     },
     "execution_count": 22,
     "metadata": {},
     "output_type": "execute_result"
    }
   ],
   "source": [
    "top_cellphone_2019 = merged_df.pivot(columns='name', index='year', values = 'phones per capita') #creates table\n",
    "top5_2019 = top_cellphone_2019.sort_values('2019', axis=1, ascending = False).tail(10).iloc[:, :5].reset_index() # Sort countries 'p.p.c' in 2019 in descending order and select top5\n",
    "top5_2019.head(10)"
   ]
  },
  {
   "cell_type": "markdown",
   "id": "29a90ad2-9fe8-44a5-a60d-2803f7a57cbe",
   "metadata": {},
   "source": [
    "### The highest growth rate of cell phones (per capita) in last 10 years"
   ]
  },
  {
   "cell_type": "code",
   "execution_count": 23,
   "id": "68e88233-704c-4dab-b550-26393438bc54",
   "metadata": {},
   "outputs": [
    {
     "data": {
      "text/plain": [
       "<AxesSubplot:xlabel='year', ylabel='Phones per capita'>"
      ]
     },
     "execution_count": 23,
     "metadata": {},
     "output_type": "execute_result"
    },
    {
     "data": {
      "image/png": "[encoded data removed]",
      "text/plain": [
       "<Figure size 720x432 with 1 Axes>"
      ]
     },
     "metadata": {},
     "output_type": "display_data"
    }
   ],
   "source": [
    "top_5 = top_cellphone_2019.sort_values('2019', axis=1, ascending = False).tail(10).iloc[:, :5].reset_index()\n",
    "top_5_melted = top_5.melt(id_vars=['year'], var_name = 'Country', value_name = 'Phones per capita')\n",
    "\n",
    "plt.figure(figsize=(10, 6)) \n",
    "sns.lineplot(data=top_5_melted, x = 'year', y = 'Phones per capita', hue = 'Country')"
   ]
  },
  {
   "cell_type": "markdown",
   "id": "680ab83a-627f-401d-af5c-60be3d376924",
   "metadata": {},
   "source": [
    "We can see that Macao has the fastest growth in cell phones per person over the last 10 years, with a steady increase. Hong Kong also grows steadily, while countries like the United Arab Emirates and Antigua and Barbuda grow more slowly. Seychelles has the smallest growth of all."
   ]
  },
  {
   "cell_type": "markdown",
   "id": "f008e270-37fe-49c2-a5f2-7233f32fd6bd",
   "metadata": {},
   "source": [
    "# SQL"
   ]
  },
  {
   "cell_type": "code",
   "execution_count": 24,
   "id": "920ef4cd-2434-4eb9-b2bf-25c1b490cb14",
   "metadata": {},
   "outputs": [
    {
     "data": {
      "text/plain": [
       "[('user_actions',)]"
      ]
     },
     "execution_count": 24,
     "metadata": {},
     "output_type": "execute_result"
    }
   ],
   "source": [
    "import sqlite3 as sql\n",
    "\n",
    "conn = sql.connect(\"/Users/alvinalindqvist/Desktop/user_actions.db\")\n",
    "cursor = conn.cursor()\n",
    "\n",
    "list(cursor.execute(\"SELECT name FROM sqlite_master WHERE type='table';\")) # the tables we have. "
   ]
  },
  {
   "cell_type": "code",
   "execution_count": 25,
   "id": "a6607103-a682-436b-b5fc-914bf593c9fc",
   "metadata": {},
   "outputs": [
    {
     "data": {
      "text/plain": [
       "[(0, 'user_id', 'INTEGER', 0, None, 0),\n",
       " (1, 'username', 'TEXT', 0, None, 0),\n",
       " (2, 'email', 'TEXT', 0, None, 0),\n",
       " (3, 'action', 'TEXT', 0, None, 0),\n",
       " (4, 'timestamp', 'TEXT', 0, None, 0)]"
      ]
     },
     "execution_count": 25,
     "metadata": {},
     "output_type": "execute_result"
    }
   ],
   "source": [
    "list(cursor.execute(\"SELECT * FROM PRAGMA_TABLE_INFO('user_actions');\")) # the columns for the table user_actions"
   ]
  },
  {
   "cell_type": "code",
   "execution_count": 26,
   "id": "91cdb4ef-7084-4d51-8845-644b216930c1",
   "metadata": {},
   "outputs": [
    {
     "data": {
      "text/plain": [
       "[(8040,)]"
      ]
     },
     "execution_count": 26,
     "metadata": {},
     "output_type": "execute_result"
    }
   ],
   "source": [
    "list(cursor.execute(\"SELECT count(*) FROM user_actions;\")) # number of rows in table user_actions"
   ]
  },
  {
   "cell_type": "markdown",
   "id": "459003a5-711f-4ba3-8af8-4308fa61e05b",
   "metadata": {},
   "source": [
    "### Retrieve the usernames of all users who have performed the \"signup\" action."
   ]
  },
  {
   "cell_type": "code",
   "execution_count": 27,
   "id": "8b47b128-0b77-49b4-a343-6a05f720bd0d",
   "metadata": {},
   "outputs": [
    {
     "data": {
      "text/plain": [
       "[('user1',),\n",
       " ('user10',),\n",
       " ('user11',),\n",
       " ('user12',),\n",
       " ('user13',),\n",
       " ('user14',),\n",
       " ('user15',),\n",
       " ('user16',),\n",
       " ('user17',),\n",
       " ('user18',),\n",
       " ('user19',),\n",
       " ('user2',),\n",
       " ('user20',),\n",
       " ('user21',),\n",
       " ('user22',),\n",
       " ('user23',),\n",
       " ('user24',),\n",
       " ('user25',),\n",
       " ('user26',),\n",
       " ('user27',),\n",
       " ('user28',),\n",
       " ('user29',),\n",
       " ('user3',),\n",
       " ('user30',),\n",
       " ('user31',),\n",
       " ('user32',),\n",
       " ('user33',),\n",
       " ('user34',),\n",
       " ('user35',),\n",
       " ('user4',),\n",
       " ('user5',),\n",
       " ('user6',),\n",
       " ('user7',),\n",
       " ('user8',),\n",
       " ('user9',)]"
      ]
     },
     "execution_count": 27,
     "metadata": {},
     "output_type": "execute_result"
    }
   ],
   "source": [
    "query = \"\"\"\n",
    "SELECT\n",
    "    username \n",
    "FROM\n",
    "    user_actions\n",
    "WHERE\n",
    "    action='signup'\n",
    "ORDER BY\n",
    "    username;\n",
    "\"\"\"\n",
    "list(cursor.execute(query)) "
   ]
  },
  {
   "cell_type": "markdown",
   "id": "15564bbb-9054-4d5a-9049-fcfec1da41dd",
   "metadata": {},
   "source": [
    "###  Find the total number of log entries for each user. Display the user_id, username, and the count of log entries."
   ]
  },
  {
   "cell_type": "code",
   "execution_count": 28,
   "id": "a76e7bdb-d3da-4b15-b0fe-a36990cc1176",
   "metadata": {},
   "outputs": [
    {
     "data": {
      "text/plain": [
       "[(1, 'user1', 104),\n",
       " (2, 'user2', 149),\n",
       " (3, 'user3', 108),\n",
       " (4, 'user4', 436),\n",
       " (5, 'user5', 192),\n",
       " (6, 'user6', 457),\n",
       " (7, 'user7', 362),\n",
       " (8, 'user8', 329),\n",
       " (9, 'user9', 118),\n",
       " (10, 'user10', 170),\n",
       " (11, 'user11', 328),\n",
       " (12, 'user12', 209),\n",
       " (13, 'user13', 470),\n",
       " (14, 'user14', 320),\n",
       " (15, 'user15', 35),\n",
       " (16, 'user16', 379),\n",
       " (17, 'user17', 367),\n",
       " (18, 'user18', 122),\n",
       " (19, 'user19', 58),\n",
       " (20, 'user20', 362),\n",
       " (21, 'user21', 323),\n",
       " (22, 'user22', 275),\n",
       " (23, 'user23', 309),\n",
       " (24, 'user24', 162),\n",
       " (25, 'user25', 136),\n",
       " (26, 'user26', 217),\n",
       " (27, 'user27', 211),\n",
       " (28, 'user28', 91),\n",
       " (29, 'user29', 49),\n",
       " (30, 'user30', 165),\n",
       " (31, 'user31', 389),\n",
       " (32, 'user32', 32),\n",
       " (33, 'user33', 32),\n",
       " (34, 'user34', 180),\n",
       " (35, 'user35', 394)]"
      ]
     },
     "execution_count": 28,
     "metadata": {},
     "output_type": "execute_result"
    }
   ],
   "source": [
    "query = \"\"\"\n",
    "SELECT\n",
    "    user_id,\n",
    "    username,\n",
    "    COUNT(*) \n",
    "FROM\n",
    "    user_actions\n",
    "GROUP BY\n",
    "    user_id\n",
    "ORDER BY\n",
    "    user_id;\n",
    "\"\"\"\n",
    "list(cursor.execute(query))"
   ]
  },
  {
   "cell_type": "markdown",
   "id": "85e8a283-fb2a-41ca-a2b1-943be02ef588",
   "metadata": {},
   "source": [
    "### Identify users who have both logged in (action = 'login') and signed up (action = 'signup') on the same day. Display the user_id and username."
   ]
  },
  {
   "cell_type": "code",
   "execution_count": 29,
   "id": "1354576e-b8ac-4bdd-8b90-bc13b541f139",
   "metadata": {},
   "outputs": [
    {
     "data": {
      "text/plain": [
       "[(2, 'user2'),\n",
       " (5, 'user5'),\n",
       " (5, 'user5'),\n",
       " (7, 'user7'),\n",
       " (8, 'user8'),\n",
       " (12, 'user12'),\n",
       " (22, 'user22'),\n",
       " (22, 'user22'),\n",
       " (30, 'user30'),\n",
       " (32, 'user32')]"
      ]
     },
     "execution_count": 29,
     "metadata": {},
     "output_type": "execute_result"
    }
   ],
   "source": [
    "query = \"\"\"\n",
    "SELECT\n",
    "    ua1.user_id,\n",
    "    ua1.username\n",
    "FROM\n",
    "    user_actions ua1\n",
    "JOIN\n",
    "    user_actions ua2 ON\n",
    "    ua1.user_id = ua2.user_id AND \n",
    "    DATE(ua1.timestamp) = DATE(ua2.timestamp) AND \n",
    "    ua1.action = 'login' AND\n",
    "    ua2.action = 'signup'\n",
    "ORDER BY\n",
    "    ua1.user_id\n",
    "\"\"\"\n",
    "list(cursor.execute(query))"
   ]
  },
  {
   "cell_type": "code",
   "execution_count": 30,
   "id": "337dbb72-7657-4659-8a09-e2f1789fb0d6",
   "metadata": {},
   "outputs": [],
   "source": [
    "cursor.close()\n",
    "conn.close()"
   ]
  },
  {
   "cell_type": "markdown",
   "id": "c48a2ba4-0d69-47d2-83ee-971fce27e4ed",
   "metadata": {},
   "source": [
    "# Regex"
   ]
  },
  {
   "cell_type": "code",
   "execution_count": 31,
   "id": "e6b8908a-88c3-493d-9947-c924d5244ae7",
   "metadata": {},
   "outputs": [
    {
     "data": {
      "text/html": [
       "<div>\n",
       "<style scoped>\n",
       "    .dataframe tbody tr th:only-of-type {\n",
       "        vertical-align: middle;\n",
       "    }\n",
       "\n",
       "    .dataframe tbody tr th {\n",
       "        vertical-align: top;\n",
       "    }\n",
       "\n",
       "    .dataframe thead th {\n",
       "        text-align: right;\n",
       "    }\n",
       "</style>\n",
       "<table border=\"1\" class=\"dataframe\">\n",
       "  <thead>\n",
       "    <tr style=\"text-align: right;\">\n",
       "      <th></th>\n",
       "      <th>1. \"Great post! #programming #tips\"</th>\n",
       "    </tr>\n",
       "  </thead>\n",
       "  <tbody>\n",
       "    <tr>\n",
       "      <th>0</th>\n",
       "      <td>2. \"Enjoyed the article. #coding #python\"</td>\n",
       "    </tr>\n",
       "    <tr>\n",
       "      <th>1</th>\n",
       "      <td>3. \"Interesting insights. #tech #data\"</td>\n",
       "    </tr>\n",
       "    <tr>\n",
       "      <th>2</th>\n",
       "      <td>4. \"This is awesome! #programming #coding\"</td>\n",
       "    </tr>\n",
       "    <tr>\n",
       "      <th>3</th>\n",
       "      <td>5. \"Thanks for sharing. #data #analysis\"</td>\n",
       "    </tr>\n",
       "    <tr>\n",
       "      <th>4</th>\n",
       "      <td>6. \"I learned a lot. #programming #python #tips\"</td>\n",
       "    </tr>\n",
       "  </tbody>\n",
       "</table>\n",
       "</div>"
      ],
      "text/plain": [
       "                1. \"Great post! #programming #tips\"\n",
       "0         2. \"Enjoyed the article. #coding #python\"\n",
       "1            3. \"Interesting insights. #tech #data\"\n",
       "2        4. \"This is awesome! #programming #coding\"\n",
       "3          5. \"Thanks for sharing. #data #analysis\"\n",
       "4  6. \"I learned a lot. #programming #python #tips\""
      ]
     },
     "execution_count": 31,
     "metadata": {},
     "output_type": "execute_result"
    }
   ],
   "source": [
    "comments = pd.read_csv('https://raw.githubusercontent.com/su-mt4007/data/refs/heads/main/comments.txt')\n",
    "comments.head()"
   ]
  },
  {
   "cell_type": "code",
   "execution_count": 32,
   "id": "d672800d-1151-4789-828a-7f74b1c87e4c",
   "metadata": {},
   "outputs": [
    {
     "data": {
      "text/plain": [
       "['1. \"Great post! #programming #tips\"',\n",
       " '2. \"Enjoyed the article. #coding #python\"',\n",
       " '3. \"Interesting insights. #tech #data\"',\n",
       " '4. \"This is awesome! #programming #coding\"',\n",
       " '5. \"Thanks for sharing. #data #analysis\"',\n",
       " '6. \"I learned a lot. #programming #python #tips\"',\n",
       " '7. \"Cool stuff! #tech #innovation\"',\n",
       " '8. \"Amazing read. #coding #python\"',\n",
       " '9. \"Impressive content. #data #analytics\"',\n",
       " '10. \"Inspiring! #programming #tips\"']"
      ]
     },
     "execution_count": 32,
     "metadata": {},
     "output_type": "execute_result"
    }
   ],
   "source": [
    "import requests\n",
    "\n",
    "url = 'https://raw.githubusercontent.com/su-mt4007/data/refs/heads/main/comments.txt'\n",
    "response = requests.get(url)\n",
    "comments_lines = response.text.splitlines()\n",
    "comments_lines[:10]"
   ]
  },
  {
   "cell_type": "markdown",
   "id": "ecb43aca-35ab-4f66-bbc6-30dd007b7551",
   "metadata": {},
   "source": [
    "### Write a regular expression to extract all hashtags from a given comment. "
   ]
  },
  {
   "cell_type": "code",
   "execution_count": 33,
   "id": "468b1634-d8f4-440f-ba1c-1fe45286b03b",
   "metadata": {},
   "outputs": [
    {
     "data": {
      "text/plain": [
       "[['#programming', '#tips'],\n",
       " ['#coding', '#python'],\n",
       " ['#tech', '#data'],\n",
       " ['#programming', '#coding'],\n",
       " ['#data', '#analysis'],\n",
       " ['#programming', '#python', '#tips'],\n",
       " ['#tech', '#innovation'],\n",
       " ['#coding', '#python'],\n",
       " ['#data', '#analytics'],\n",
       " ['#programming', '#tips']]"
      ]
     },
     "execution_count": 33,
     "metadata": {},
     "output_type": "execute_result"
    }
   ],
   "source": [
    "import re\n",
    "\n",
    "def extract_hashtags(comment):\n",
    "    return re.findall(r\"#\\w+\", comment)\n",
    "\n",
    "hashtags = [extract_hashtags(comment) for comment in comments_lines]\n",
    "hashtags[:10] "
   ]
  },
  {
   "cell_type": "markdown",
   "id": "3e518651-76cf-435d-984f-79d51ab9d9f1",
   "metadata": {},
   "source": [
    "### Create a regular expression to find comments that mention both \"#programming\" and \"#python\". Apply the regex to comment 2 and check if it matches."
   ]
  },
  {
   "cell_type": "code",
   "execution_count": 34,
   "id": "cee60228-669c-433e-a68b-799051d73d1a",
   "metadata": {},
   "outputs": [
    {
     "data": {
      "text/plain": [
       "['6. \"I learned a lot. #programming #python #tips\"',\n",
       " '15. \"Well explained. #programming #python #tips\"',\n",
       " '21. \"Love the content! #programming #python #tips\"',\n",
       " '30. \"Inspired by the tips. #programming #python #tips\"']"
      ]
     },
     "execution_count": 34,
     "metadata": {},
     "output_type": "execute_result"
    }
   ],
   "source": [
    "def contains_programming_and_python(comment):\n",
    "    return bool(re.search(r\"#programming\", comment) and re.search(r\"#python\", comment))\n",
    "\n",
    "comments_with_both = [comment for comment in comments_lines if contains_programming_and_python(comment)]\n",
    "comments_with_both"
   ]
  },
  {
   "cell_type": "markdown",
   "id": "7e874263-9344-4c41-8fb4-9dbd183456d1",
   "metadata": {},
   "source": [
    "### Using your regular expression, extract all unique hashtags from the entire text file."
   ]
  },
  {
   "cell_type": "code",
   "execution_count": 35,
   "id": "63a7c5d2-7d21-4b4e-a29b-b34f859f2614",
   "metadata": {},
   "outputs": [
    {
     "data": {
      "text/plain": [
       "{'#analysis',\n",
       " '#analytics',\n",
       " '#coding',\n",
       " '#data',\n",
       " '#innovation',\n",
       " '#insights',\n",
       " '#programming',\n",
       " '#python',\n",
       " '#research',\n",
       " '#tech',\n",
       " '#tips'}"
      ]
     },
     "execution_count": 35,
     "metadata": {},
     "output_type": "execute_result"
    }
   ],
   "source": [
    "all_hashtags = [tag for comment in comments_lines for tag in extract_hashtags(comment)]\n",
    "\n",
    "unique_hashtags = set(all_hashtags)\n",
    "unique_hashtags"
   ]
  },
  {
   "cell_type": "code",
   "execution_count": null,
   "id": "6aad9116-da05-41f9-97e8-603e3692ced9",
   "metadata": {},
   "outputs": [],
   "source": []
  },
  {
   "cell_type": "code",
   "execution_count": null,
   "id": "aee6b773-0aad-412b-879f-5ba0d2df9f51",
   "metadata": {},
   "outputs": [],
   "source": []
  },
  {
   "cell_type": "code",
   "execution_count": null,
   "id": "6cf18544-fbc5-4ba8-8d40-b2b338f06a0c",
   "metadata": {},
   "outputs": [],
   "source": []
  }
 ],
 "metadata": {
  "kernelspec": {
   "display_name": "Python 3",
   "language": "python",
   "name": "python3"
  },
  "language_info": {
   "codemirror_mode": {
    "name": "ipython",
    "version": 3
   },
   "file_extension": ".py",
   "mimetype": "text/x-python",
   "name": "python",
   "nbconvert_exporter": "python",
   "pygments_lexer": "ipython3",
   "version": "3.8.8"
  }
 },
 "nbformat": 4,
 "nbformat_minor": 5
}
