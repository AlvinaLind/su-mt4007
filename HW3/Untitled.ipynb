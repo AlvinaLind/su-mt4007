{
 "cells": [
  {
   "cell_type": "markdown",
   "id": "11de7493-ba90-4b92-96d2-4438ca2d827d",
   "metadata": {},
   "source": [
    "# Prov på mig själv"
   ]
  },
  {
   "cell_type": "code",
   "execution_count": 1,
   "id": "ea3f5e4e-18cf-4c6c-83a7-e2173c950803",
   "metadata": {},
   "outputs": [],
   "source": [
    "import pandas as pd                                                        \n",
    "import seaborn as sns\n",
    "import numpy as np\n",
    "import matplotlib.pyplot as plt\n",
    "sns.set_style(style=\"darkgrid\")\n",
    "import seaborn as sns\n",
    "import datetime as dt"
   ]
  },
  {
   "cell_type": "code",
   "execution_count": 2,
   "id": "bf466449-8d88-4ea9-9371-bd51564c5e59",
   "metadata": {},
   "outputs": [],
   "source": [
    "art_data = pd.read_csv(\"/Users/alvinalindqvist/Desktop/artportalen.csv\")"
   ]
  },
  {
   "cell_type": "markdown",
   "id": "35f4bddb-12f9-40fe-a0db-68ee51307c8e",
   "metadata": {},
   "source": [
    "### What are the most prevelant species?"
   ]
  },
  {
   "cell_type": "code",
   "execution_count": 3,
   "id": "7f82be16-7f39-4d87-a4d0-6a7e30d18d8c",
   "metadata": {},
   "outputs": [],
   "source": [
    "art_data = art_data.replace([\"noterad\", \"Ej återfunnen\"], [1,0])\n",
    "art_data[\"Antal\"] = pd.to_numeric(art_data[\"Antal\"])\n",
    "\n",
    "pd.set_option('display.max_columns', None) "
   ]
  },
  {
   "cell_type": "code",
   "execution_count": 4,
   "id": "0115311b-2025-4f9e-bcc1-3b59bc9071a0",
   "metadata": {},
   "outputs": [
    {
     "data": {
      "text/html": [
       "<div>\n",
       "<style scoped>\n",
       "    .dataframe tbody tr th:only-of-type {\n",
       "        vertical-align: middle;\n",
       "    }\n",
       "\n",
       "    .dataframe tbody tr th {\n",
       "        vertical-align: top;\n",
       "    }\n",
       "\n",
       "    .dataframe thead th {\n",
       "        text-align: right;\n",
       "    }\n",
       "</style>\n",
       "<table border=\"1\" class=\"dataframe\">\n",
       "  <thead>\n",
       "    <tr style=\"text-align: right;\">\n",
       "      <th></th>\n",
       "      <th>Antal</th>\n",
       "    </tr>\n",
       "    <tr>\n",
       "      <th>Artnamn</th>\n",
       "      <th></th>\n",
       "    </tr>\n",
       "  </thead>\n",
       "  <tbody>\n",
       "    <tr>\n",
       "      <th>Grönsiska</th>\n",
       "      <td>20237</td>\n",
       "    </tr>\n",
       "    <tr>\n",
       "      <th>Sothöna</th>\n",
       "      <td>8393</td>\n",
       "    </tr>\n",
       "    <tr>\n",
       "      <th>Gräsand</th>\n",
       "      <td>7296</td>\n",
       "    </tr>\n",
       "    <tr>\n",
       "      <th>Storskrake</th>\n",
       "      <td>6800</td>\n",
       "    </tr>\n",
       "    <tr>\n",
       "      <th>Vitkindad gås</th>\n",
       "      <td>6391</td>\n",
       "    </tr>\n",
       "    <tr>\n",
       "      <th>...</th>\n",
       "      <td>...</td>\n",
       "    </tr>\n",
       "    <tr>\n",
       "      <th>Fjällvråk</th>\n",
       "      <td>1</td>\n",
       "    </tr>\n",
       "    <tr>\n",
       "      <th>Forsärla</th>\n",
       "      <td>1</td>\n",
       "    </tr>\n",
       "    <tr>\n",
       "      <th>Rosenfink</th>\n",
       "      <td>1</td>\n",
       "    </tr>\n",
       "    <tr>\n",
       "      <th>Gravand</th>\n",
       "      <td>1</td>\n",
       "    </tr>\n",
       "    <tr>\n",
       "      <th>Strömstare</th>\n",
       "      <td>1</td>\n",
       "    </tr>\n",
       "  </tbody>\n",
       "</table>\n",
       "<p>173 rows × 1 columns</p>\n",
       "</div>"
      ],
      "text/plain": [
       "               Antal\n",
       "Artnamn             \n",
       "Grönsiska      20237\n",
       "Sothöna         8393\n",
       "Gräsand         7296\n",
       "Storskrake      6800\n",
       "Vitkindad gås   6391\n",
       "...              ...\n",
       "Fjällvråk          1\n",
       "Forsärla           1\n",
       "Rosenfink          1\n",
       "Gravand            1\n",
       "Strömstare         1\n",
       "\n",
       "[173 rows x 1 columns]"
      ]
     },
     "execution_count": 4,
     "metadata": {},
     "output_type": "execute_result"
    }
   ],
   "source": [
    "top = art_data.loc[:,['Artnamn', 'Antal']]\n",
    "top = top.groupby('Artnamn').sum()\n",
    "top = top.sort_values(by = 'Antal', ascending = False)\n",
    "top"
   ]
  },
  {
   "cell_type": "markdown",
   "id": "b351903a-5094-4a6a-95ac-c59bbcd8c8ee",
   "metadata": {},
   "source": [
    "## Månadsvis fördelning för top 3 "
   ]
  },
  {
   "cell_type": "code",
   "execution_count": 5,
   "id": "7b868983-58ed-4c7b-849b-64e38bedd8f3",
   "metadata": {},
   "outputs": [],
   "source": [
    "top3_distr = art_data.loc[:,['Artnamn', 'Startdatum', 'Antal']]\n",
    "top3 = ['Grönsiska', 'Sothöna', 'Gräsand']\n",
    "top3_distr = top3_distr[top3_distr['Artnamn'].isin(top3)]"
   ]
  },
  {
   "cell_type": "code",
   "execution_count": 6,
   "id": "30fa9b3b-8130-40d5-acb7-0b1cd6ec741e",
   "metadata": {},
   "outputs": [],
   "source": [
    "top3_distr['Month'] = pd.to_datetime(top3_distr['Startdatum'], errors = 'coerce').dt.strftime('%b')"
   ]
  },
  {
   "cell_type": "code",
   "execution_count": 7,
   "id": "793e1d7d-19aa-4697-a769-c333ea8b8627",
   "metadata": {},
   "outputs": [
    {
     "data": {
      "text/html": [
       "<div>\n",
       "<style scoped>\n",
       "    .dataframe tbody tr th:only-of-type {\n",
       "        vertical-align: middle;\n",
       "    }\n",
       "\n",
       "    .dataframe tbody tr th {\n",
       "        vertical-align: top;\n",
       "    }\n",
       "\n",
       "    .dataframe thead th {\n",
       "        text-align: right;\n",
       "    }\n",
       "</style>\n",
       "<table border=\"1\" class=\"dataframe\">\n",
       "  <thead>\n",
       "    <tr style=\"text-align: right;\">\n",
       "      <th>Artnamn</th>\n",
       "      <th>Gräsand</th>\n",
       "      <th>Grönsiska</th>\n",
       "      <th>Sothöna</th>\n",
       "    </tr>\n",
       "    <tr>\n",
       "      <th>Month</th>\n",
       "      <th></th>\n",
       "      <th></th>\n",
       "      <th></th>\n",
       "    </tr>\n",
       "  </thead>\n",
       "  <tbody>\n",
       "    <tr>\n",
       "      <th>Apr</th>\n",
       "      <td>892</td>\n",
       "      <td>6</td>\n",
       "      <td>638</td>\n",
       "    </tr>\n",
       "    <tr>\n",
       "      <th>Feb</th>\n",
       "      <td>1591</td>\n",
       "      <td>658</td>\n",
       "      <td>2104</td>\n",
       "    </tr>\n",
       "    <tr>\n",
       "      <th>Jan</th>\n",
       "      <td>2975</td>\n",
       "      <td>19517</td>\n",
       "      <td>2148</td>\n",
       "    </tr>\n",
       "    <tr>\n",
       "      <th>Jun</th>\n",
       "      <td>106</td>\n",
       "      <td>7</td>\n",
       "      <td>112</td>\n",
       "    </tr>\n",
       "    <tr>\n",
       "      <th>Mar</th>\n",
       "      <td>1204</td>\n",
       "      <td>38</td>\n",
       "      <td>3093</td>\n",
       "    </tr>\n",
       "    <tr>\n",
       "      <th>May</th>\n",
       "      <td>528</td>\n",
       "      <td>11</td>\n",
       "      <td>298</td>\n",
       "    </tr>\n",
       "  </tbody>\n",
       "</table>\n",
       "</div>"
      ],
      "text/plain": [
       "Artnamn  Gräsand  Grönsiska  Sothöna\n",
       "Month                               \n",
       "Apr          892          6      638\n",
       "Feb         1591        658     2104\n",
       "Jan         2975      19517     2148\n",
       "Jun          106          7      112\n",
       "Mar         1204         38     3093\n",
       "May          528         11      298"
      ]
     },
     "execution_count": 7,
     "metadata": {},
     "output_type": "execute_result"
    }
   ],
   "source": [
    "top3_distr = top3_distr.groupby(['Month', 'Artnamn'])['Antal'].sum().unstack()\n",
    "top3_distr"
   ]
  },
  {
   "cell_type": "code",
   "execution_count": 8,
   "id": "b54652d3-141a-4e84-a891-c2f5e0a7db6b",
   "metadata": {},
   "outputs": [
    {
     "data": {
      "text/plain": [
       "<AxesSubplot:xlabel='Month'>"
      ]
     },
     "execution_count": 8,
     "metadata": {},
     "output_type": "execute_result"
    },
    {
     "data": {
      "image/png": "[encoded data removed]",
      "text/plain": [
       "<Figure size 432x288 with 1 Axes>"
      ]
     },
     "metadata": {},
     "output_type": "display_data"
    }
   ],
   "source": [
    "top3_distr.plot()"
   ]
  },
  {
   "cell_type": "code",
   "execution_count": null,
   "id": "1af08256-f287-4a57-b1b1-f2c62bcb1962",
   "metadata": {},
   "outputs": [],
   "source": []
  },
  {
   "cell_type": "code",
   "execution_count": null,
   "id": "838b8589-1afa-4c97-9e31-ddb8bfa88117",
   "metadata": {},
   "outputs": [],
   "source": []
  }
 ],
 "metadata": {
  "kernelspec": {
   "display_name": "Python 3",
   "language": "python",
   "name": "python3"
  },
  "language_info": {
   "codemirror_mode": {
    "name": "ipython",
    "version": 3
   },
   "file_extension": ".py",
   "mimetype": "text/x-python",
   "name": "python",
   "nbconvert_exporter": "python",
   "pygments_lexer": "ipython3",
   "version": "3.8.8"
  }
 },
 "nbformat": 4,
 "nbformat_minor": 5
}
