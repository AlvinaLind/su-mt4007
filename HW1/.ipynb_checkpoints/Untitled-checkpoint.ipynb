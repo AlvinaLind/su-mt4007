{
 "cells": [
  {
   "cell_type": "code",
   "execution_count": 10,
   "id": "ce5925ae",
   "metadata": {},
   "outputs": [],
   "source": [
    "# Homework 1\n",
    "## Om mig\n",
    "## Min erfarenhet av data science "
   ]
  },
  {
   "cell_type": "markdown",
   "id": "4b512105",
   "metadata": {},
   "source": [
    "\n"
   ]
  }
 ],
 "metadata": {
  "kernelspec": {
   "display_name": "Python 3",
   "language": "python",
   "name": "python3"
  },
  "language_info": {
   "codemirror_mode": {
    "name": "ipython",
    "version": 3
   },
   "file_extension": ".py",
   "mimetype": "text/x-python",
   "name": "python",
   "nbconvert_exporter": "python",
   "pygments_lexer": "ipython3",
   "version": "3.8.8"
  }
 },
 "nbformat": 4,
 "nbformat_minor": 5
}
