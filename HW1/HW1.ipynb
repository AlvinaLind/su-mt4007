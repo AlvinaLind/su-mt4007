{
 "cells": [
  {
   "cell_type": "markdown",
   "id": "a687e78b",
   "metadata": {},
   "source": [
    "# Homework 1\n",
    "## A brief description of yourself: \n",
    "My name is Alvina, and I'm studying the Financial Mathematics and Statistics program\n",
    "## Previous experience with Data Science\n",
    "My previous experience with data science comes from courses I've taken, such as Statistical Analysis and Stochastic Processes and Simulation. I have also studied Programming Techniques for Mathematicians.\n",
    "\n",
    "\n"
   ]
  },
  {
   "cell_type": "markdown",
   "id": "5370dd39",
   "metadata": {},
   "source": [
    "\n"
   ]
  },
  {
   "cell_type": "code",
   "execution_count": null,
   "id": "688cc3bd",
   "metadata": {},
   "outputs": [],
   "source": []
  }
 ],
 "metadata": {
  "kernelspec": {
   "display_name": "Python 3",
   "language": "python",
   "name": "python3"
  },
  "language_info": {
   "codemirror_mode": {
    "name": "ipython",
    "version": 3
   },
   "file_extension": ".py",
   "mimetype": "text/x-python",
   "name": "python",
   "nbconvert_exporter": "python",
   "pygments_lexer": "ipython3",
   "version": "3.8.8"
  }
 },
 "nbformat": 4,
 "nbformat_minor": 5
}
